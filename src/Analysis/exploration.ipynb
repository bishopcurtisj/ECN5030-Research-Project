{
 "cells": [
  {
   "cell_type": "code",
   "execution_count": 1,
   "metadata": {},
   "outputs": [],
   "source": [
    "import numpy as np\n",
    "import pandas as pd\n",
    "import matplotlib.pyplot as plt\n",
    "import nfl_data_py as nfl\n",
    "import dataframe_image as dfi"
   ]
  },
  {
   "cell_type": "markdown",
   "metadata": {},
   "source": [
    "# NFL"
   ]
  },
  {
   "cell_type": "code",
   "execution_count": 165,
   "metadata": {},
   "outputs": [],
   "source": [
    "##draft=pd.read_csv('..\\\\Data\\\\NFL-Draft-8515\\\\nfl_draft.csv')\n",
    "players=pd.read_csv('..\\\\Data\\\\NFL-Stats-1222\\\\yearly.csv')\n",
    "years=range(1991,2024)\n",
    "draft=pd.DataFrame(nfl.import_draft_picks(years))\n",
    "\n",
    "draft.to_csv('..\\\\Data\\\\NFL-Draft-9123.csv', index=False)\n",
    "\n"
   ]
  },
  {
   "cell_type": "code",
   "execution_count": 8,
   "metadata": {},
   "outputs": [
    {
     "data": {
      "text/plain": [
       "Index(['season', 'round', 'pick', 'team', 'gsis_id', 'pfr_player_id',\n",
       "       'cfb_player_id', 'pfr_player_name', 'hof', 'position', 'category',\n",
       "       'side', 'college', 'age', 'to', 'allpro', 'probowls', 'seasons_started',\n",
       "       'w_av', 'car_av', 'dr_av', 'games', 'pass_completions', 'pass_attempts',\n",
       "       'pass_yards', 'pass_tds', 'pass_ints', 'rush_atts', 'rush_yards',\n",
       "       'rush_tds', 'receptions', 'rec_yards', 'rec_tds', 'def_solo_tackles',\n",
       "       'def_ints', 'def_sacks'],\n",
       "      dtype='object')"
      ]
     },
     "execution_count": 8,
     "metadata": {},
     "output_type": "execute_result"
    }
   ],
   "source": [
    "draft=pd.read_csv('..\\\\Data\\\\NFL-Draft-9123.csv')\n",
    "draft.columns"
   ]
  },
  {
   "cell_type": "code",
   "execution_count": 14,
   "metadata": {},
   "outputs": [
    {
     "data": {
      "text/html": [
       "<div>\n",
       "<style scoped>\n",
       "    .dataframe tbody tr th:only-of-type {\n",
       "        vertical-align: middle;\n",
       "    }\n",
       "\n",
       "    .dataframe tbody tr th {\n",
       "        vertical-align: top;\n",
       "    }\n",
       "\n",
       "    .dataframe thead th {\n",
       "        text-align: right;\n",
       "    }\n",
       "</style>\n",
       "<table border=\"1\" class=\"dataframe\">\n",
       "  <thead>\n",
       "    <tr style=\"text-align: right;\">\n",
       "      <th></th>\n",
       "      <th>pfr_player_name</th>\n",
       "      <th>season</th>\n",
       "      <th>to</th>\n",
       "    </tr>\n",
       "  </thead>\n",
       "  <tbody>\n",
       "    <tr>\n",
       "      <th>0</th>\n",
       "      <td>Russell Maryland</td>\n",
       "      <td>1991</td>\n",
       "      <td>2000.0</td>\n",
       "    </tr>\n",
       "    <tr>\n",
       "      <th>1</th>\n",
       "      <td>Eric Turner</td>\n",
       "      <td>1991</td>\n",
       "      <td>1999.0</td>\n",
       "    </tr>\n",
       "    <tr>\n",
       "      <th>2</th>\n",
       "      <td>Bruce Pickens</td>\n",
       "      <td>1991</td>\n",
       "      <td>1995.0</td>\n",
       "    </tr>\n",
       "    <tr>\n",
       "      <th>3</th>\n",
       "      <td>Mike Croel</td>\n",
       "      <td>1991</td>\n",
       "      <td>1998.0</td>\n",
       "    </tr>\n",
       "    <tr>\n",
       "      <th>4</th>\n",
       "      <td>Todd Lyght</td>\n",
       "      <td>1991</td>\n",
       "      <td>2002.0</td>\n",
       "    </tr>\n",
       "  </tbody>\n",
       "</table>\n",
       "</div>"
      ],
      "text/plain": [
       "    pfr_player_name  season      to\n",
       "0  Russell Maryland    1991  2000.0\n",
       "1       Eric Turner    1991  1999.0\n",
       "2     Bruce Pickens    1991  1995.0\n",
       "3        Mike Croel    1991  1998.0\n",
       "4        Todd Lyght    1991  2002.0"
      ]
     },
     "execution_count": 14,
     "metadata": {},
     "output_type": "execute_result"
    }
   ],
   "source": [
    "draft[['pfr_player_name', 'season','to']].head()"
   ]
  },
  {
   "cell_type": "code",
   "execution_count": 166,
   "metadata": {},
   "outputs": [],
   "source": [
    "active_players=players[players['season']==2022]\n",
    "retired_players=players[players['name'].isin(active_players['name'])==False]"
   ]
  },
  {
   "cell_type": "code",
   "execution_count": 167,
   "metadata": {},
   "outputs": [],
   "source": [
    "rp=retired_players[['name','season']]\n",
    "finalYear=rp.groupby('name').max('season').reset_index()\n",
    "firstYear=rp.groupby('name').min('season').reset_index()\n",
    "d=draft[draft['pfr_player_name'].isin(finalYear['name'])].sort_values('pfr_player_name').reset_index(drop=True)\n",
    "d=d.rename(columns={'pfr_player_name':'name','season':'draft_year'})\n",
    "d=d[['name','draft_year', 'round', 'pick', 'team']]\n",
    "\n",
    "retired=d.merge((finalYear.merge(firstYear, on='name', how='left')), on='name', how='left')"
   ]
  },
  {
   "cell_type": "code",
   "execution_count": 173,
   "metadata": {},
   "outputs": [
    {
     "data": {
      "text/html": [
       "<div>\n",
       "<style scoped>\n",
       "    .dataframe tbody tr th:only-of-type {\n",
       "        vertical-align: middle;\n",
       "    }\n",
       "\n",
       "    .dataframe tbody tr th {\n",
       "        vertical-align: top;\n",
       "    }\n",
       "\n",
       "    .dataframe thead th {\n",
       "        text-align: right;\n",
       "    }\n",
       "</style>\n",
       "<table border=\"1\" class=\"dataframe\">\n",
       "  <thead>\n",
       "    <tr style=\"text-align: right;\">\n",
       "      <th></th>\n",
       "      <th>draft_year</th>\n",
       "      <th>pick</th>\n",
       "      <th>season_x</th>\n",
       "      <th>season_y</th>\n",
       "      <th>Mean Career Length</th>\n",
       "      <th>Standard Error</th>\n",
       "    </tr>\n",
       "    <tr>\n",
       "      <th>Round</th>\n",
       "      <th></th>\n",
       "      <th></th>\n",
       "      <th></th>\n",
       "      <th></th>\n",
       "      <th></th>\n",
       "      <th></th>\n",
       "    </tr>\n",
       "  </thead>\n",
       "  <tbody>\n",
       "    <tr>\n",
       "      <th>1</th>\n",
       "      <td>2007.846939</td>\n",
       "      <td>15.938776</td>\n",
       "      <td>2016.132653</td>\n",
       "      <td>2012.602041</td>\n",
       "      <td>4.530612</td>\n",
       "      <td>0.265961</td>\n",
       "    </tr>\n",
       "    <tr>\n",
       "      <th>2</th>\n",
       "      <td>2009.627660</td>\n",
       "      <td>48.946809</td>\n",
       "      <td>2016.191489</td>\n",
       "      <td>2012.946809</td>\n",
       "      <td>4.244681</td>\n",
       "      <td>0.240436</td>\n",
       "    </tr>\n",
       "    <tr>\n",
       "      <th>3</th>\n",
       "      <td>2010.730769</td>\n",
       "      <td>81.721154</td>\n",
       "      <td>2016.326923</td>\n",
       "      <td>2013.403846</td>\n",
       "      <td>3.923077</td>\n",
       "      <td>0.256248</td>\n",
       "    </tr>\n",
       "    <tr>\n",
       "      <th>4</th>\n",
       "      <td>2012.147541</td>\n",
       "      <td>116.950820</td>\n",
       "      <td>2016.467213</td>\n",
       "      <td>2013.975410</td>\n",
       "      <td>3.491803</td>\n",
       "      <td>0.207972</td>\n",
       "    </tr>\n",
       "    <tr>\n",
       "      <th>5</th>\n",
       "      <td>2013.318681</td>\n",
       "      <td>154.901099</td>\n",
       "      <td>2017.384615</td>\n",
       "      <td>2014.725275</td>\n",
       "      <td>3.659341</td>\n",
       "      <td>0.251112</td>\n",
       "    </tr>\n",
       "    <tr>\n",
       "      <th>6</th>\n",
       "      <td>2012.514286</td>\n",
       "      <td>191.504762</td>\n",
       "      <td>2016.838095</td>\n",
       "      <td>2014.400000</td>\n",
       "      <td>3.438095</td>\n",
       "      <td>0.232018</td>\n",
       "    </tr>\n",
       "    <tr>\n",
       "      <th>7</th>\n",
       "      <td>2012.224490</td>\n",
       "      <td>233.530612</td>\n",
       "      <td>2016.040816</td>\n",
       "      <td>2014.418367</td>\n",
       "      <td>2.622449</td>\n",
       "      <td>0.197563</td>\n",
       "    </tr>\n",
       "  </tbody>\n",
       "</table>\n",
       "</div>"
      ],
      "text/plain": [
       "        draft_year        pick     season_x     season_y  Mean Career Length  \\\n",
       "Round                                                                          \n",
       "1      2007.846939   15.938776  2016.132653  2012.602041            4.530612   \n",
       "2      2009.627660   48.946809  2016.191489  2012.946809            4.244681   \n",
       "3      2010.730769   81.721154  2016.326923  2013.403846            3.923077   \n",
       "4      2012.147541  116.950820  2016.467213  2013.975410            3.491803   \n",
       "5      2013.318681  154.901099  2017.384615  2014.725275            3.659341   \n",
       "6      2012.514286  191.504762  2016.838095  2014.400000            3.438095   \n",
       "7      2012.224490  233.530612  2016.040816  2014.418367            2.622449   \n",
       "\n",
       "       Standard Error  \n",
       "Round                  \n",
       "1            0.265961  \n",
       "2            0.240436  \n",
       "3            0.256248  \n",
       "4            0.207972  \n",
       "5            0.251112  \n",
       "6            0.232018  \n",
       "7            0.197563  "
      ]
     },
     "metadata": {},
     "output_type": "display_data"
    }
   ],
   "source": [
    "retired['years_played']=retired['season_x']-retired['season_y']+1\n",
    "averageByRound=retired.groupby('round').mean()\n",
    "averageByRound=averageByRound.rename(columns={'years_played':'Mean Career Length'})\n",
    "\n",
    "seCareer=retired.groupby('round').sem()\n",
    "averageByRound['Standard Error']=seCareer['years_played']\n",
    "averageByRound.drop(averageByRound.tail(1).index,inplace=True)\n",
    "averageByRound.index.names=['Round']\n",
    "display(averageByRound)\n",
    "dfi.export(averageByRound[['Mean Career Length', 'Standard Error']].style.format(\"{:.3f}\"), 'meanNFLCareer.png')\n"
   ]
  },
  {
   "cell_type": "code",
   "execution_count": 154,
   "metadata": {},
   "outputs": [],
   "source": [
    "salaries=pd.read_csv('..\\\\Data\\\\nfl_salaries.csv')\n",
    "salaries=salaries.rename(columns={'Player':'name'})\n",
    "playerSalaries=players.merge(salaries, on='name', how='left')\n",
    "playerSalaries=playerSalaries.merge(d, on='name', how='left')\n"
   ]
  },
  {
   "cell_type": "code",
   "execution_count": 155,
   "metadata": {},
   "outputs": [],
   "source": [
    "playerSalaries['Salary'] = playerSalaries['Salary'].replace('[\\$,]', '', regex=True).astype(float)\n"
   ]
  },
  {
   "cell_type": "code",
   "execution_count": 163,
   "metadata": {},
   "outputs": [],
   "source": [
    "averageByRound=playerSalaries.groupby('round_y').mean()\n",
    "averageByRound.style.format(\"{:.3f}\")\n",
    "averageByRound.index.names = ['Round']\n",
    "averageByRound=averageByRound.rename(columns={'Salary':'Mean Salary'})\n",
    "averageByRound=averageByRound.dropna()\n",
    "seSal=playerSalaries.groupby('round_y').sem()\n",
    "averageByRound['Standard Error']=seSal['Salary']\n",
    "\n",
    "averageByRound.index.names = ['Round']\n",
    "averageByRound.index=averageByRound.index.astype(int)\n",
    "\n",
    "dfi.export(averageByRound[['Mean Salary', 'Standard Error']].style.format(\"{:.0f}\"), 'meanNFLSalary.png')\n"
   ]
  },
  {
   "cell_type": "markdown",
   "metadata": {},
   "source": [
    "# NHL"
   ]
  },
  {
   "cell_type": "code",
   "execution_count": 3,
   "metadata": {},
   "outputs": [
    {
     "data": {
      "text/plain": [
       "Index(['id', 'year', 'overall_pick', 'team', 'player', 'nationality',\n",
       "       'position', 'age', 'to_year', 'amateur_team', 'games_played', 'goals',\n",
       "       'assists', 'points', 'plus_minus', 'penalties_minutes',\n",
       "       'goalie_games_played', 'goalie_wins', 'goalie_losses',\n",
       "       'goalie_ties_overtime', 'save_percentage', 'goals_against_average',\n",
       "       'point_shares', 'round', 'pick', 'teams', 'distRound', 'Years_Played',\n",
       "       'position_code', 'age_of_retirement', 'pos_years',\n",
       "       'pos_age_of_retirement', 'pos_games_played', 'round_years',\n",
       "       'round_age_of_retirement', 'round_games_played', 'scaled_years',\n",
       "       'scaled_age_of_retirement', 'scaled_games_played'],\n",
       "      dtype='object')"
      ]
     },
     "metadata": {},
     "output_type": "display_data"
    },
    {
     "data": {
      "text/plain": [
       "Index(['playerId', 'season', 'name', 'team', 'position', 'situation',\n",
       "       'games_played', 'icetime', 'shifts', 'gameScore',\n",
       "       ...\n",
       "       'OffIce_F_xGoals', 'OffIce_A_xGoals', 'OffIce_F_shotAttempts',\n",
       "       'OffIce_A_shotAttempts', 'xGoalsForAfterShifts',\n",
       "       'xGoalsAgainstAfterShifts', 'corsiForAfterShifts',\n",
       "       'corsiAgainstAfterShifts', 'fenwickForAfterShifts',\n",
       "       'fenwickAgainstAfterShifts'],\n",
       "      dtype='object', length=154)"
      ]
     },
     "metadata": {},
     "output_type": "display_data"
    }
   ],
   "source": [
    "nhl_draft=pd.read_csv('..\\\\..\\\\Data\\\\stata-files\\\\nhl_draft.csv')\n",
    "display(nhl_draft.columns)\n",
    "\n",
    "skaters=pd.read_csv('..\\\\..\\\\Data\\\\NHL-Stats-0922\\\\skaters.csv')\n",
    "goalies=pd.read_csv('..\\\\..\\\\Data\\\\NHL-Stats-0922\\\\goalies.csv')\n",
    "gl_draft=nhl_draft[nhl_draft['position']=='G']\n",
    "sk_draft=nhl_draft[nhl_draft['position']!='G']\n",
    "display(skaters.columns)"
   ]
  },
  {
   "cell_type": "code",
   "execution_count": 158,
   "metadata": {},
   "outputs": [],
   "source": [
    "active_skaters=skaters[skaters['season']==2022]\n",
    "retired_skaters=skaters[skaters['name'].isin(active_skaters['name'])==False]\n",
    "active_goalies=goalies[goalies['season']==2022]\n",
    "retired_goalies=goalies[goalies['name'].isin(active_goalies['name'])==False]\n",
    "\n"
   ]
  },
  {
   "cell_type": "code",
   "execution_count": 5,
   "metadata": {},
   "outputs": [
    {
     "data": {
      "text/html": [
       "<div>\n",
       "<style scoped>\n",
       "    .dataframe tbody tr th:only-of-type {\n",
       "        vertical-align: middle;\n",
       "    }\n",
       "\n",
       "    .dataframe tbody tr th {\n",
       "        vertical-align: top;\n",
       "    }\n",
       "\n",
       "    .dataframe thead th {\n",
       "        text-align: right;\n",
       "    }\n",
       "</style>\n",
       "<table border=\"1\" class=\"dataframe\">\n",
       "  <thead>\n",
       "    <tr style=\"text-align: right;\">\n",
       "      <th></th>\n",
       "      <th>Years_Played</th>\n",
       "      <th>Standard Error</th>\n",
       "    </tr>\n",
       "    <tr>\n",
       "      <th>round</th>\n",
       "      <th></th>\n",
       "      <th></th>\n",
       "    </tr>\n",
       "  </thead>\n",
       "  <tbody>\n",
       "    <tr>\n",
       "      <th>1</th>\n",
       "      <td>11.775076</td>\n",
       "      <td>0.212497</td>\n",
       "    </tr>\n",
       "    <tr>\n",
       "      <th>2</th>\n",
       "      <td>9.813708</td>\n",
       "      <td>0.209214</td>\n",
       "    </tr>\n",
       "    <tr>\n",
       "      <th>3</th>\n",
       "      <td>8.977974</td>\n",
       "      <td>0.225174</td>\n",
       "    </tr>\n",
       "    <tr>\n",
       "      <th>4</th>\n",
       "      <td>9.685333</td>\n",
       "      <td>0.246051</td>\n",
       "    </tr>\n",
       "    <tr>\n",
       "      <th>5</th>\n",
       "      <td>8.885813</td>\n",
       "      <td>0.277843</td>\n",
       "    </tr>\n",
       "    <tr>\n",
       "      <th>6</th>\n",
       "      <td>9.673684</td>\n",
       "      <td>0.290672</td>\n",
       "    </tr>\n",
       "    <tr>\n",
       "      <th>7</th>\n",
       "      <td>8.855372</td>\n",
       "      <td>0.300712</td>\n",
       "    </tr>\n",
       "    <tr>\n",
       "      <th>8</th>\n",
       "      <td>9.519774</td>\n",
       "      <td>0.372226</td>\n",
       "    </tr>\n",
       "    <tr>\n",
       "      <th>9</th>\n",
       "      <td>9.063953</td>\n",
       "      <td>0.398056</td>\n",
       "    </tr>\n",
       "    <tr>\n",
       "      <th>10</th>\n",
       "      <td>9.336538</td>\n",
       "      <td>0.511374</td>\n",
       "    </tr>\n",
       "    <tr>\n",
       "      <th>11</th>\n",
       "      <td>8.388889</td>\n",
       "      <td>0.623002</td>\n",
       "    </tr>\n",
       "    <tr>\n",
       "      <th>12</th>\n",
       "      <td>7.529412</td>\n",
       "      <td>0.744840</td>\n",
       "    </tr>\n",
       "  </tbody>\n",
       "</table>\n",
       "</div>"
      ],
      "text/plain": [
       "       Years_Played  Standard Error\n",
       "round                              \n",
       "1         11.775076        0.212497\n",
       "2          9.813708        0.209214\n",
       "3          8.977974        0.225174\n",
       "4          9.685333        0.246051\n",
       "5          8.885813        0.277843\n",
       "6          9.673684        0.290672\n",
       "7          8.855372        0.300712\n",
       "8          9.519774        0.372226\n",
       "9          9.063953        0.398056\n",
       "10         9.336538        0.511374\n",
       "11         8.388889        0.623002\n",
       "12         7.529412        0.744840"
      ]
     },
     "metadata": {},
     "output_type": "display_data"
    }
   ],
   "source": [
    "retired=nhl_draft.dropna(subset=['to_year'])\n",
    "retired=retired[retired['to_year']<2022]\n",
    "retired = retired[['round', 'Years_Played']]\n",
    "\n",
    "\n",
    "\n",
    "rgp=retired.groupby('round').mean()\n",
    "rgp=rgp[['Years_Played']]\n",
    "seRetire=retired.groupby('round').sem()\n",
    "rgp['Standard Error']=seRetire['Years_Played']\n",
    "display(rgp)\n",
    "dfi.export(rgp.style.format(\"{:.3f}\"), 'meanNHLCareer.png')\n"
   ]
  },
  {
   "cell_type": "code",
   "execution_count": 160,
   "metadata": {},
   "outputs": [],
   "source": [
    "salaries=pd.read_csv('..\\\\Data\\\\nhl_salaries.csv')\n",
    "salaries['Salary']=salaries['Salary'].replace('[\\$,]', '', regex=True).astype(float)\n",
    "\n",
    "pick=nhl_draft[['player', 'round', 'overall_pick']]\n",
    "pick=pick.rename(columns={'player':'name'})\n",
    "salaries=salaries.rename(columns={'Player':'name'})\n",
    "skaterSalaries=skaters.merge(salaries, on='name', how='left')\n",
    "skaterSalaries=skaterSalaries.merge(pick, on='name', how='left')\n",
    "skaterSalaries=skaterSalaries[['name', 'season', 'round', 'Salary', 'overall_pick']]\n",
    "goalieSalaries=goalies.merge(salaries, on='name', how='left')\n",
    "goalieSalaries=goalieSalaries.merge(pick, on='name', how='left')\n",
    "goalieSalaries=goalieSalaries[['name', 'season', 'round', 'Salary', 'overall_pick']]\n",
    "\n"
   ]
  },
  {
   "cell_type": "code",
   "execution_count": 161,
   "metadata": {},
   "outputs": [],
   "source": [
    "goalieByRound=goalieSalaries.groupby('round').mean()\n",
    "skaterByRound=skaterSalaries.groupby('round').mean()\n",
    "\n",
    "skaterByRound.index.names = ['Round']\n",
    "skaterByRound=skaterByRound.rename(columns={'Salary':'Mean Skater Salary'})\n",
    "skaterByRound.index=skaterByRound.index.astype(int)\n",
    "seSkater=skaterSalaries.groupby('round').sem()\n",
    "skaterByRound['Standard Error']=seSkater['Salary']\n",
    "dfi.export(skaterByRound[['Mean Skater Salary', 'Standard Error']].style.format(\"{:.0f}\"), 'meanSkaterSalary.png')\n"
   ]
  },
  {
   "cell_type": "code",
   "execution_count": 162,
   "metadata": {},
   "outputs": [],
   "source": [
    "goalieByRound.index.names = ['Round']\n",
    "goalieByRound=goalieByRound.rename(columns={'Salary':'Mean Goalie Salary'})\n",
    "goalieByRound.index=goalieByRound.index.astype(int)\n",
    "\n",
    "seGoalie=goalieSalaries.groupby('round').sem()\n",
    "goalieByRound['Standard Error']=seGoalie['Salary']\n",
    "dfi.export(goalieByRound[['Mean Goalie Salary', 'Standard Error']].style.format(\"{:.0f}\"), 'meanGoalieSalary.png')"
   ]
  }
 ],
 "metadata": {
  "kernelspec": {
   "display_name": "base",
   "language": "python",
   "name": "python3"
  },
  "language_info": {
   "codemirror_mode": {
    "name": "ipython",
    "version": 3
   },
   "file_extension": ".py",
   "mimetype": "text/x-python",
   "name": "python",
   "nbconvert_exporter": "python",
   "pygments_lexer": "ipython3",
   "version": "3.9.18"
  }
 },
 "nbformat": 4,
 "nbformat_minor": 2
}
