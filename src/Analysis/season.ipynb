{
 "cells": [
  {
   "cell_type": "code",
   "execution_count": 1,
   "metadata": {},
   "outputs": [],
   "source": [
    "import pandas as pd\n",
    "import numpy as np"
   ]
  },
  {
   "cell_type": "code",
   "execution_count": 9,
   "metadata": {},
   "outputs": [],
   "source": [
    "df=pd.read_csv('..\\\\..\\\\Data\\\\NHL_Players_Statistics.csv')\n",
    "nhl_draft=pd.read_csv('..\\\\..\\\\Data\\\\stata-files\\\\nhl_draft.csv')"
   ]
  },
  {
   "cell_type": "code",
   "execution_count": 5,
   "metadata": {},
   "outputs": [
    {
     "data": {
      "text/plain": [
       "Index(['Name', 'Date_of_birth', 'SEASON_year', 'SEASON', 'TEAM',\n",
       "       'Games_Played', 'Goals', 'Assists', 'Points', 'PlusMinus_Ratings',\n",
       "       'Penalty_Minutes', 'Shots_on_Goal', 'Shooting_Percentage',\n",
       "       'PowerPlay_Goals', 'PowerPlay_Assists', 'Short_Goals', 'Short_Assists',\n",
       "       'Game_Winning_Goals', 'Game_Tying_Goals', 'Time_on_Ice_per_Game',\n",
       "       'Production', 'Number', 'Games_Started', 'Wins', 'Losses', 'Ties',\n",
       "       'Overtime_Losses', 'Goals_Against', 'Goals_Against_Average',\n",
       "       'Shots_Against', 'Saves', 'Save_Percentage', 'Shutouts', 'Position',\n",
       "       'Height', 'Weight', 'Body_mass_index', 'Place_of_birth', 'Age',\n",
       "       'Experience'],\n",
       "      dtype='object')"
      ]
     },
     "execution_count": 5,
     "metadata": {},
     "output_type": "execute_result"
    }
   ],
   "source": [
    "df.columns"
   ]
  },
  {
   "cell_type": "code",
   "execution_count": 8,
   "metadata": {},
   "outputs": [
    {
     "data": {
      "text/plain": [
       "2020"
      ]
     },
     "execution_count": 8,
     "metadata": {},
     "output_type": "execute_result"
    }
   ],
   "source": [
    "df.SEASON_year.max()"
   ]
  }
 ],
 "metadata": {
  "kernelspec": {
   "display_name": "base",
   "language": "python",
   "name": "python3"
  },
  "language_info": {
   "codemirror_mode": {
    "name": "ipython",
    "version": 3
   },
   "file_extension": ".py",
   "mimetype": "text/x-python",
   "name": "python",
   "nbconvert_exporter": "python",
   "pygments_lexer": "ipython3",
   "version": "3.9.18"
  }
 },
 "nbformat": 4,
 "nbformat_minor": 2
}
