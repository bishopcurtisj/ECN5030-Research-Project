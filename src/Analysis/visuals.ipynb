{
 "cells": [
  {
   "cell_type": "code",
   "execution_count": 4,
   "metadata": {},
   "outputs": [],
   "source": [
    "import pandas as pd\n",
    "import numpy as np\n",
    "import dataframe_image as dfi"
   ]
  },
  {
   "cell_type": "code",
   "execution_count": 3,
   "metadata": {},
   "outputs": [
    {
     "data": {
      "text/html": [
       "<div>\n",
       "<style scoped>\n",
       "    .dataframe tbody tr th:only-of-type {\n",
       "        vertical-align: middle;\n",
       "    }\n",
       "\n",
       "    .dataframe tbody tr th {\n",
       "        vertical-align: top;\n",
       "    }\n",
       "\n",
       "    .dataframe thead th {\n",
       "        text-align: right;\n",
       "    }\n",
       "</style>\n",
       "<table border=\"1\" class=\"dataframe\">\n",
       "  <thead>\n",
       "    <tr style=\"text-align: right;\">\n",
       "      <th></th>\n",
       "      <th>band16</th>\n",
       "      <th>se16</th>\n",
       "      <th>t16</th>\n",
       "      <th>optimal_band</th>\n",
       "      <th>opt_se</th>\n",
       "      <th>opt_t</th>\n",
       "    </tr>\n",
       "    <tr>\n",
       "      <th>Outcome</th>\n",
       "      <th></th>\n",
       "      <th></th>\n",
       "      <th></th>\n",
       "      <th></th>\n",
       "      <th></th>\n",
       "      <th></th>\n",
       "    </tr>\n",
       "  </thead>\n",
       "  <tbody>\n",
       "    <tr>\n",
       "      <th>Seasons Played</th>\n",
       "      <td>0.448642</td>\n",
       "      <td>0.173594</td>\n",
       "      <td>2.58</td>\n",
       "      <td>-0.062048</td>\n",
       "      <td>0.407958</td>\n",
       "      <td>-0.15</td>\n",
       "    </tr>\n",
       "    <tr>\n",
       "      <th>Age of Retirement</th>\n",
       "      <td>0.422668</td>\n",
       "      <td>0.172475</td>\n",
       "      <td>2.45</td>\n",
       "      <td>-0.030698</td>\n",
       "      <td>0.407215</td>\n",
       "      <td>-0.08</td>\n",
       "    </tr>\n",
       "    <tr>\n",
       "      <th>Seasons Started</th>\n",
       "      <td>0.632508</td>\n",
       "      <td>2.616703</td>\n",
       "      <td>3.80</td>\n",
       "      <td>0.017495</td>\n",
       "      <td>0.265758</td>\n",
       "      <td>0.07</td>\n",
       "    </tr>\n",
       "    <tr>\n",
       "      <th>Games Played</th>\n",
       "      <td>9.944647</td>\n",
       "      <td>0.113701</td>\n",
       "      <td>5.56</td>\n",
       "      <td>2.270287</td>\n",
       "      <td>6.193703</td>\n",
       "      <td>0.37</td>\n",
       "    </tr>\n",
       "  </tbody>\n",
       "</table>\n",
       "</div>"
      ],
      "text/plain": [
       "                     band16      se16   t16  optimal_band    opt_se  opt_t\n",
       "Outcome                                                                   \n",
       "Seasons Played     0.448642  0.173594  2.58     -0.062048  0.407958  -0.15\n",
       "Age of Retirement  0.422668  0.172475  2.45     -0.030698  0.407215  -0.08\n",
       "Seasons Started    0.632508  2.616703  3.80      0.017495  0.265758   0.07\n",
       "Games Played       9.944647  0.113701  5.56      2.270287  6.193703   0.37"
      ]
     },
     "execution_count": 3,
     "metadata": {},
     "output_type": "execute_result"
    }
   ],
   "source": [
    "df = pd.read_csv('NFL_RDD_est.csv', index_col=0)\n",
    "df"
   ]
  },
  {
   "cell_type": "code",
   "execution_count": 5,
   "metadata": {},
   "outputs": [],
   "source": [
    "dfi.export(df.style.format(\"{:.3f}\"), 'NFL_RDD_est.png')\n"
   ]
  },
  {
   "cell_type": "code",
   "execution_count": 6,
   "metadata": {},
   "outputs": [
    {
     "data": {
      "text/html": [
       "<div>\n",
       "<style scoped>\n",
       "    .dataframe tbody tr th:only-of-type {\n",
       "        vertical-align: middle;\n",
       "    }\n",
       "\n",
       "    .dataframe tbody tr th {\n",
       "        vertical-align: top;\n",
       "    }\n",
       "\n",
       "    .dataframe thead th {\n",
       "        text-align: right;\n",
       "    }\n",
       "</style>\n",
       "<table border=\"1\" class=\"dataframe\">\n",
       "  <thead>\n",
       "    <tr style=\"text-align: right;\">\n",
       "      <th></th>\n",
       "      <th>band16</th>\n",
       "      <th>se16</th>\n",
       "      <th>t16</th>\n",
       "      <th>optimal_band</th>\n",
       "      <th>opt_se</th>\n",
       "      <th>opt_t</th>\n",
       "    </tr>\n",
       "    <tr>\n",
       "      <th>Outcome</th>\n",
       "      <th></th>\n",
       "      <th></th>\n",
       "      <th></th>\n",
       "      <th></th>\n",
       "      <th></th>\n",
       "      <th></th>\n",
       "    </tr>\n",
       "  </thead>\n",
       "  <tbody>\n",
       "    <tr>\n",
       "      <th>Seasons Played</th>\n",
       "      <td>-1.990655</td>\n",
       "      <td>0.476359</td>\n",
       "      <td>-4.18</td>\n",
       "      <td>-1.398316</td>\n",
       "      <td>1.468063</td>\n",
       "      <td>-0.95</td>\n",
       "    </tr>\n",
       "    <tr>\n",
       "      <th>Games Played</th>\n",
       "      <td>8.515427</td>\n",
       "      <td>11.346820</td>\n",
       "      <td>0.75</td>\n",
       "      <td>22.171100</td>\n",
       "      <td>35.411570</td>\n",
       "      <td>0.63</td>\n",
       "    </tr>\n",
       "    <tr>\n",
       "      <th>Age of Retirement</th>\n",
       "      <td>-0.610028</td>\n",
       "      <td>0.260694</td>\n",
       "      <td>-2.34</td>\n",
       "      <td>-0.500148</td>\n",
       "      <td>0.797491</td>\n",
       "      <td>-0.63</td>\n",
       "    </tr>\n",
       "  </tbody>\n",
       "</table>\n",
       "</div>"
      ],
      "text/plain": [
       "                     band16       se16   t16  optimal_band     opt_se  opt_t\n",
       "Outcome                                                                     \n",
       "Seasons Played    -1.990655   0.476359 -4.18     -1.398316   1.468063  -0.95\n",
       "Games Played       8.515427  11.346820  0.75     22.171100  35.411570   0.63\n",
       "Age of Retirement -0.610028   0.260694 -2.34     -0.500148   0.797491  -0.63"
      ]
     },
     "execution_count": 6,
     "metadata": {},
     "output_type": "execute_result"
    }
   ],
   "source": [
    "df = pd.read_csv('NHL_RDD_est.csv', index_col=0)\n",
    "dfi.export(df.style.format(\"{:.3f}\"), 'NHL_RDD_est.png')\n",
    "df"
   ]
  }
 ],
 "metadata": {
  "kernelspec": {
   "display_name": "base",
   "language": "python",
   "name": "python3"
  },
  "language_info": {
   "codemirror_mode": {
    "name": "ipython",
    "version": 3
   },
   "file_extension": ".py",
   "mimetype": "text/x-python",
   "name": "python",
   "nbconvert_exporter": "python",
   "pygments_lexer": "ipython3",
   "version": "3.9.18"
  }
 },
 "nbformat": 4,
 "nbformat_minor": 2
}
