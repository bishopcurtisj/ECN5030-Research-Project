{
 "cells": [
  {
   "cell_type": "code",
   "execution_count": 1,
   "metadata": {},
   "outputs": [],
   "source": [
    "import scipy.stats as stats\n",
    "import numpy as np\n",
    "import pandas as pd"
   ]
  },
  {
   "cell_type": "code",
   "execution_count": 32,
   "metadata": {},
   "outputs": [],
   "source": [
    "nhl_boot=pd.read_csv('..\\\\..\\\\Data\\\\stata-files\\\\nhl_draft.csv')\n",
    "nhl_boot=nhl_boot[(nhl_boot['distRound']>=-5) & (nhl_boot['distRound']<=5)]\n",
    "nhl_boot=nhl_boot[[\"distRound\", 'Years_Played']]\n",
    "nhl_boot=nhl_boot.dropna()"
   ]
  },
  {
   "cell_type": "code",
   "execution_count": 33,
   "metadata": {},
   "outputs": [],
   "source": [
    "B=10_000\n",
    "bootstraps={}\n",
    "for i in range(-5,6):\n",
    "    years=nhl_boot[nhl_boot['distRound']==i]['Years_Played'].to_numpy()\n",
    "    for b in range(B):\n",
    "        boot=np.random.choice(years, size=len(years), replace=True)\n",
    "        bootstraps[i]=np.mean(boot)\n",
    "\n",
    "bootstraps=pd.DataFrame(bootstraps, index=range(B))\n",
    "bootstraps.to_csv('..\\\\..\\\\Data\\\\stata-files\\\\nhl_draft_boot.csv', index=False)"
   ]
  },
  {
   "cell_type": "code",
   "execution_count": 30,
   "metadata": {},
   "outputs": [
    {
     "data": {
      "text/html": [
       "<div>\n",
       "<style scoped>\n",
       "    .dataframe tbody tr th:only-of-type {\n",
       "        vertical-align: middle;\n",
       "    }\n",
       "\n",
       "    .dataframe tbody tr th {\n",
       "        vertical-align: top;\n",
       "    }\n",
       "\n",
       "    .dataframe thead th {\n",
       "        text-align: right;\n",
       "    }\n",
       "</style>\n",
       "<table border=\"1\" class=\"dataframe\">\n",
       "  <thead>\n",
       "    <tr style=\"text-align: right;\">\n",
       "      <th></th>\n",
       "      <th>years_played</th>\n",
       "      <th>dist_round</th>\n",
       "    </tr>\n",
       "  </thead>\n",
       "  <tbody>\n",
       "    <tr>\n",
       "      <th>0</th>\n",
       "      <td>9.72</td>\n",
       "      <td>3.0</td>\n",
       "    </tr>\n",
       "    <tr>\n",
       "      <th>1</th>\n",
       "      <td>10.20</td>\n",
       "      <td>3.0</td>\n",
       "    </tr>\n",
       "    <tr>\n",
       "      <th>2</th>\n",
       "      <td>8.78</td>\n",
       "      <td>3.0</td>\n",
       "    </tr>\n",
       "    <tr>\n",
       "      <th>3</th>\n",
       "      <td>10.00</td>\n",
       "      <td>-2.0</td>\n",
       "    </tr>\n",
       "    <tr>\n",
       "      <th>4</th>\n",
       "      <td>9.02</td>\n",
       "      <td>3.0</td>\n",
       "    </tr>\n",
       "    <tr>\n",
       "      <th>...</th>\n",
       "      <td>...</td>\n",
       "      <td>...</td>\n",
       "    </tr>\n",
       "    <tr>\n",
       "      <th>9995</th>\n",
       "      <td>9.78</td>\n",
       "      <td>-4.0</td>\n",
       "    </tr>\n",
       "    <tr>\n",
       "      <th>9996</th>\n",
       "      <td>9.10</td>\n",
       "      <td>5.0</td>\n",
       "    </tr>\n",
       "    <tr>\n",
       "      <th>9997</th>\n",
       "      <td>10.66</td>\n",
       "      <td>2.0</td>\n",
       "    </tr>\n",
       "    <tr>\n",
       "      <th>9998</th>\n",
       "      <td>9.00</td>\n",
       "      <td>4.0</td>\n",
       "    </tr>\n",
       "    <tr>\n",
       "      <th>9999</th>\n",
       "      <td>8.98</td>\n",
       "      <td>-3.0</td>\n",
       "    </tr>\n",
       "  </tbody>\n",
       "</table>\n",
       "<p>10000 rows × 2 columns</p>\n",
       "</div>"
      ],
      "text/plain": [
       "      years_played  dist_round\n",
       "0             9.72         3.0\n",
       "1            10.20         3.0\n",
       "2             8.78         3.0\n",
       "3            10.00        -2.0\n",
       "4             9.02         3.0\n",
       "...            ...         ...\n",
       "9995          9.78        -4.0\n",
       "9996          9.10         5.0\n",
       "9997         10.66         2.0\n",
       "9998          9.00         4.0\n",
       "9999          8.98        -3.0\n",
       "\n",
       "[10000 rows x 2 columns]"
      ]
     },
     "execution_count": 30,
     "metadata": {},
     "output_type": "execute_result"
    }
   ],
   "source": [
    "B=10_000\n",
    "years_played=nhl_boot['Years_Played'].dropna().to_numpy()\n",
    "dist_round=nhl_boot['distRound'].dropna().to_numpy()\n",
    "years=np.empty(B)\n",
    "rv=np.empty(B)\n",
    "for b in range(B):\n",
    "    years[b] = np.random.choice(a=years_played, size=50, replace=True).mean()\n",
    "    rv[b] = np.random.choice(a=dist_round, size=1, replace=True)[0]\n",
    "\n",
    "nhl_bootstrap=pd.DataFrame({'years_played':years, 'dist_round':rv})\n",
    "\n",
    "nhl_bootstrap"
   ]
  },
  {
   "cell_type": "code",
   "execution_count": 31,
   "metadata": {},
   "outputs": [],
   "source": [
    "nhl_bootstrap.to_csv('..\\\\..\\\\Data\\\\stata-files\\\\nhl_draft_boot.csv', index=False)"
   ]
  }
 ],
 "metadata": {
  "kernelspec": {
   "display_name": "base",
   "language": "python",
   "name": "python3"
  },
  "language_info": {
   "codemirror_mode": {
    "name": "ipython",
    "version": 3
   },
   "file_extension": ".py",
   "mimetype": "text/x-python",
   "name": "python",
   "nbconvert_exporter": "python",
   "pygments_lexer": "ipython3",
   "version": "3.9.18"
  }
 },
 "nbformat": 4,
 "nbformat_minor": 2
}
