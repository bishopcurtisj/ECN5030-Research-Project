{
 "cells": [
  {
   "cell_type": "code",
   "execution_count": 1,
   "metadata": {},
   "outputs": [],
   "source": [
    "import pandas as pd\n",
    "import numpy as np"
   ]
  },
  {
   "cell_type": "code",
   "execution_count": 2,
   "metadata": {},
   "outputs": [],
   "source": [
    "nhl_draft=pd.read_csv('..\\\\..\\\\Data\\\\stata-files\\\\nhl_draft.csv')\n",
    "nfl_draft=pd.read_csv('..\\\\..\\\\Data\\\\stata-files\\\\nfl_draft.csv')"
   ]
  },
  {
   "cell_type": "code",
   "execution_count": 4,
   "metadata": {},
   "outputs": [
    {
     "name": "stdout",
     "output_type": "stream",
     "text": [
      "id\n",
      "year\n",
      "team\n",
      "player\n",
      "to_year\n",
      "games_played\n",
      "position\n",
      "point_shares\n",
      "goals_against_average\n",
      "overall_pick\n",
      "round\n",
      "Years_Played\n",
      "pick\n",
      "teams\n",
      "distRound\n"
     ]
    }
   ],
   "source": [
    "for column in nhl_draft.columns:\n",
    "    print(column)"
   ]
  },
  {
   "cell_type": "code",
   "execution_count": null,
   "metadata": {},
   "outputs": [],
   "source": [
    "normalized_df=nhl_draft[['games_played', 'position','round', 'Years_Played']]\n",
    "\n"
   ]
  },
  {
   "cell_type": "code",
   "execution_count": 5,
   "metadata": {},
   "outputs": [
    {
     "name": "stdout",
     "output_type": "stream",
     "text": [
      "season\n",
      "round\n",
      "overall_pick\n",
      "team\n",
      "gsis_id\n",
      "pfr_player_id\n",
      "cfb_player_id\n",
      "pfr_player_name\n",
      "hof\n",
      "position\n",
      "category\n",
      "side\n",
      "college\n",
      "age\n",
      "to\n",
      "allpro\n",
      "probowls\n",
      "seasons_started\n",
      "w_av\n",
      "car_av\n",
      "dr_av\n",
      "games\n",
      "pass_completions\n",
      "pass_attempts\n",
      "pass_yards\n",
      "pass_tds\n",
      "pass_ints\n",
      "rush_atts\n",
      "rush_yards\n",
      "rush_tds\n",
      "receptions\n",
      "rec_yards\n",
      "rec_tds\n",
      "def_solo_tackles\n",
      "def_ints\n",
      "def_sacks\n",
      "pick\n",
      "distRound\n"
     ]
    }
   ],
   "source": [
    "for column in nfl_draft.columns:\n",
    "    print(column)"
   ]
  }
 ],
 "metadata": {
  "kernelspec": {
   "display_name": "base",
   "language": "python",
   "name": "python3"
  },
  "language_info": {
   "codemirror_mode": {
    "name": "ipython",
    "version": 3
   },
   "file_extension": ".py",
   "mimetype": "text/x-python",
   "name": "python",
   "nbconvert_exporter": "python",
   "pygments_lexer": "ipython3",
   "version": "3.9.18"
  }
 },
 "nbformat": 4,
 "nbformat_minor": 2
}
