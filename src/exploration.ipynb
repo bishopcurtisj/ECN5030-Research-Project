{
 "cells": [
  {
   "cell_type": "code",
   "execution_count": 99,
   "metadata": {},
   "outputs": [],
   "source": [
    "import numpy as np\n",
    "import pandas as pd\n",
    "import matplotlib.pyplot as plt\n",
    "import nfl_data_py as nfl\n",
    "import dataframe_image as dfi"
   ]
  },
  {
   "cell_type": "code",
   "execution_count": 165,
   "metadata": {},
   "outputs": [],
   "source": [
    "##draft=pd.read_csv('..\\\\Data\\\\NFL-Draft-8515\\\\nfl_draft.csv')\n",
    "players=pd.read_csv('..\\\\Data\\\\NFL-Stats-1222\\\\yearly.csv')\n",
    "years=range(1991,2024)\n",
    "draft=pd.DataFrame(nfl.import_draft_picks(years))\n",
    "\n",
    "draft.to_csv('..\\\\Data\\\\NFL-Draft-9123.csv', index=False)\n",
    "\n"
   ]
  },
  {
   "cell_type": "code",
   "execution_count": 166,
   "metadata": {},
   "outputs": [],
   "source": [
    "active_players=players[players['season']==2022]\n",
    "retired_players=players[players['name'].isin(active_players['name'])==False]"
   ]
  },
  {
   "cell_type": "code",
   "execution_count": 167,
   "metadata": {},
   "outputs": [],
   "source": [
    "rp=retired_players[['name','season']]\n",
    "finalYear=rp.groupby('name').max('season').reset_index()\n",
    "firstYear=rp.groupby('name').min('season').reset_index()\n",
    "d=draft[draft['pfr_player_name'].isin(finalYear['name'])].sort_values('pfr_player_name').reset_index(drop=True)\n",
    "d=d.rename(columns={'pfr_player_name':'name','season':'draft_year'})\n",
    "d=d[['name','draft_year', 'round', 'pick', 'team']]\n",
    "\n",
    "retired=d.merge((finalYear.merge(firstYear, on='name', how='left')), on='name', how='left')"
   ]
  },
  {
   "cell_type": "code",
   "execution_count": 173,
   "metadata": {},
   "outputs": [
    {
     "data": {
      "text/html": [
       "<div>\n",
       "<style scoped>\n",
       "    .dataframe tbody tr th:only-of-type {\n",
       "        vertical-align: middle;\n",
       "    }\n",
       "\n",
       "    .dataframe tbody tr th {\n",
       "        vertical-align: top;\n",
       "    }\n",
       "\n",
       "    .dataframe thead th {\n",
       "        text-align: right;\n",
       "    }\n",
       "</style>\n",
       "<table border=\"1\" class=\"dataframe\">\n",
       "  <thead>\n",
       "    <tr style=\"text-align: right;\">\n",
       "      <th></th>\n",
       "      <th>draft_year</th>\n",
       "      <th>pick</th>\n",
       "      <th>season_x</th>\n",
       "      <th>season_y</th>\n",
       "      <th>Mean Career Length</th>\n",
       "      <th>Standard Error</th>\n",
       "    </tr>\n",
       "    <tr>\n",
       "      <th>Round</th>\n",
       "      <th></th>\n",
       "      <th></th>\n",
       "      <th></th>\n",
       "      <th></th>\n",
       "      <th></th>\n",
       "      <th></th>\n",
       "    </tr>\n",
       "  </thead>\n",
       "  <tbody>\n",
       "    <tr>\n",
       "      <th>1</th>\n",
       "      <td>2007.846939</td>\n",
       "      <td>15.938776</td>\n",
       "      <td>2016.132653</td>\n",
       "      <td>2012.602041</td>\n",
       "      <td>4.530612</td>\n",
       "      <td>0.265961</td>\n",
       "    </tr>\n",
       "    <tr>\n",
       "      <th>2</th>\n",
       "      <td>2009.627660</td>\n",
       "      <td>48.946809</td>\n",
       "      <td>2016.191489</td>\n",
       "      <td>2012.946809</td>\n",
       "      <td>4.244681</td>\n",
       "      <td>0.240436</td>\n",
       "    </tr>\n",
       "    <tr>\n",
       "      <th>3</th>\n",
       "      <td>2010.730769</td>\n",
       "      <td>81.721154</td>\n",
       "      <td>2016.326923</td>\n",
       "      <td>2013.403846</td>\n",
       "      <td>3.923077</td>\n",
       "      <td>0.256248</td>\n",
       "    </tr>\n",
       "    <tr>\n",
       "      <th>4</th>\n",
       "      <td>2012.147541</td>\n",
       "      <td>116.950820</td>\n",
       "      <td>2016.467213</td>\n",
       "      <td>2013.975410</td>\n",
       "      <td>3.491803</td>\n",
       "      <td>0.207972</td>\n",
       "    </tr>\n",
       "    <tr>\n",
       "      <th>5</th>\n",
       "      <td>2013.318681</td>\n",
       "      <td>154.901099</td>\n",
       "      <td>2017.384615</td>\n",
       "      <td>2014.725275</td>\n",
       "      <td>3.659341</td>\n",
       "      <td>0.251112</td>\n",
       "    </tr>\n",
       "    <tr>\n",
       "      <th>6</th>\n",
       "      <td>2012.514286</td>\n",
       "      <td>191.504762</td>\n",
       "      <td>2016.838095</td>\n",
       "      <td>2014.400000</td>\n",
       "      <td>3.438095</td>\n",
       "      <td>0.232018</td>\n",
       "    </tr>\n",
       "    <tr>\n",
       "      <th>7</th>\n",
       "      <td>2012.224490</td>\n",
       "      <td>233.530612</td>\n",
       "      <td>2016.040816</td>\n",
       "      <td>2014.418367</td>\n",
       "      <td>2.622449</td>\n",
       "      <td>0.197563</td>\n",
       "    </tr>\n",
       "  </tbody>\n",
       "</table>\n",
       "</div>"
      ],
      "text/plain": [
       "        draft_year        pick     season_x     season_y  Mean Career Length  \\\n",
       "Round                                                                          \n",
       "1      2007.846939   15.938776  2016.132653  2012.602041            4.530612   \n",
       "2      2009.627660   48.946809  2016.191489  2012.946809            4.244681   \n",
       "3      2010.730769   81.721154  2016.326923  2013.403846            3.923077   \n",
       "4      2012.147541  116.950820  2016.467213  2013.975410            3.491803   \n",
       "5      2013.318681  154.901099  2017.384615  2014.725275            3.659341   \n",
       "6      2012.514286  191.504762  2016.838095  2014.400000            3.438095   \n",
       "7      2012.224490  233.530612  2016.040816  2014.418367            2.622449   \n",
       "\n",
       "       Standard Error  \n",
       "Round                  \n",
       "1            0.265961  \n",
       "2            0.240436  \n",
       "3            0.256248  \n",
       "4            0.207972  \n",
       "5            0.251112  \n",
       "6            0.232018  \n",
       "7            0.197563  "
      ]
     },
     "metadata": {},
     "output_type": "display_data"
    }
   ],
   "source": [
    "retired['years_played']=retired['season_x']-retired['season_y']+1\n",
    "averageByRound=retired.groupby('round').mean()\n",
    "averageByRound=averageByRound.rename(columns={'years_played':'Mean Career Length'})\n",
    "\n",
    "seCareer=retired.groupby('round').sem()\n",
    "averageByRound['Standard Error']=seCareer['years_played']\n",
    "averageByRound.drop(averageByRound.tail(1).index,inplace=True)\n",
    "averageByRound.index.names=['Round']\n",
    "display(averageByRound)\n",
    "dfi.export(averageByRound[['Mean Career Length', 'Standard Error']].style.format(\"{:.3f}\"), 'meanNFLCareer.png')\n"
   ]
  },
  {
   "cell_type": "code",
   "execution_count": 154,
   "metadata": {},
   "outputs": [],
   "source": [
    "salaries=pd.read_csv('..\\\\Data\\\\nfl_salaries.csv')\n",
    "salaries=salaries.rename(columns={'Player':'name'})\n",
    "playerSalaries=players.merge(salaries, on='name', how='left')\n",
    "playerSalaries=playerSalaries.merge(d, on='name', how='left')\n"
   ]
  },
  {
   "cell_type": "code",
   "execution_count": 155,
   "metadata": {},
   "outputs": [],
   "source": [
    "playerSalaries['Salary'] = playerSalaries['Salary'].replace('[\\$,]', '', regex=True).astype(float)\n"
   ]
  },
  {
   "cell_type": "code",
   "execution_count": 163,
   "metadata": {},
   "outputs": [],
   "source": [
    "averageByRound=playerSalaries.groupby('round_y').mean()\n",
    "averageByRound.style.format(\"{:.3f}\")\n",
    "averageByRound.index.names = ['Round']\n",
    "averageByRound=averageByRound.rename(columns={'Salary':'Mean Salary'})\n",
    "averageByRound=averageByRound.dropna()\n",
    "seSal=playerSalaries.groupby('round_y').sem()\n",
    "averageByRound['Standard Error']=seSal['Salary']\n",
    "\n",
    "averageByRound.index.names = ['Round']\n",
    "averageByRound.index=averageByRound.index.astype(int)\n",
    "\n",
    "dfi.export(averageByRound[['Mean Salary', 'Standard Error']].style.format(\"{:.0f}\"), 'meanNFLSalary.png')\n"
   ]
  },
  {
   "cell_type": "markdown",
   "metadata": {},
   "source": [
    "## NHL Stats"
   ]
  },
  {
   "cell_type": "code",
   "execution_count": 157,
   "metadata": {},
   "outputs": [
    {
     "data": {
      "text/plain": [
       "Index(['id', 'year', 'overall_pick', 'team', 'player', 'nationality',\n",
       "       'position', 'age', 'to_year', 'amateur_team', 'games_played', 'goals',\n",
       "       'assists', 'points', 'plus_minus', 'penalties_minutes',\n",
       "       'goalie_games_played', 'goalie_wins', 'goalie_losses',\n",
       "       'goalie_ties_overtime', 'save_percentage', 'goals_against_average',\n",
       "       'point_shares'],\n",
       "      dtype='object')"
      ]
     },
     "metadata": {},
     "output_type": "display_data"
    },
    {
     "data": {
      "text/plain": [
       "Index(['playerId', 'season', 'name', 'team', 'position', 'situation',\n",
       "       'games_played', 'icetime', 'shifts', 'gameScore',\n",
       "       ...\n",
       "       'OffIce_F_xGoals', 'OffIce_A_xGoals', 'OffIce_F_shotAttempts',\n",
       "       'OffIce_A_shotAttempts', 'xGoalsForAfterShifts',\n",
       "       'xGoalsAgainstAfterShifts', 'corsiForAfterShifts',\n",
       "       'corsiAgainstAfterShifts', 'fenwickForAfterShifts',\n",
       "       'fenwickAgainstAfterShifts'],\n",
       "      dtype='object', length=154)"
      ]
     },
     "metadata": {},
     "output_type": "display_data"
    }
   ],
   "source": [
    "nhl_draft=pd.read_csv('..\\\\Data\\\\NHL-Draft\\\\nhldraft.csv')\n",
    "display(nhl_draft.columns)\n",
    "nhl_draft=nhl_draft[nhl_draft['year']>1990]\n",
    "teams={}\n",
    "for i in range(1991,2023):\n",
    "    teams[i]=(len(nhl_draft[nhl_draft['year']==i]['team'].unique()))\n",
    "round=[]\n",
    "for index, row in nhl_draft.iterrows():\n",
    "    round.append((row['overall_pick']//teams[row['year']])+1)\n",
    "nhl_draft['round']=round\n",
    "\n",
    "skaters=pd.read_csv('..\\\\Data\\\\NHL-Stats-0922\\\\skaters.csv')\n",
    "goalies=pd.read_csv('..\\\\Data\\\\NHL-Stats-0922\\\\goalies.csv')\n",
    "gl_draft=nhl_draft[nhl_draft['position']=='G']\n",
    "sk_draft=nhl_draft[nhl_draft['position']!='G']\n",
    "display(skaters.columns)"
   ]
  },
  {
   "cell_type": "code",
   "execution_count": 84,
   "metadata": {},
   "outputs": [
    {
     "data": {
      "text/plain": [
       "293"
      ]
     },
     "metadata": {},
     "output_type": "display_data"
    }
   ],
   "source": [
    "display(nhl_draft['overall_pick'].max())"
   ]
  },
  {
   "cell_type": "code",
   "execution_count": 158,
   "metadata": {},
   "outputs": [],
   "source": [
    "active_skaters=skaters[skaters['season']==2022]\n",
    "retired_skaters=skaters[skaters['name'].isin(active_skaters['name'])==False]\n",
    "active_goalies=goalies[goalies['season']==2022]\n",
    "retired_goalies=goalies[goalies['name'].isin(active_goalies['name'])==False]\n",
    "\n"
   ]
  },
  {
   "cell_type": "code",
   "execution_count": 174,
   "metadata": {},
   "outputs": [
    {
     "data": {
      "text/html": [
       "<div>\n",
       "<style scoped>\n",
       "    .dataframe tbody tr th:only-of-type {\n",
       "        vertical-align: middle;\n",
       "    }\n",
       "\n",
       "    .dataframe tbody tr th {\n",
       "        vertical-align: top;\n",
       "    }\n",
       "\n",
       "    .dataframe thead th {\n",
       "        text-align: right;\n",
       "    }\n",
       "</style>\n",
       "<table border=\"1\" class=\"dataframe\">\n",
       "  <thead>\n",
       "    <tr style=\"text-align: right;\">\n",
       "      <th></th>\n",
       "      <th>Mean Career Length</th>\n",
       "      <th>Standard Error</th>\n",
       "    </tr>\n",
       "    <tr>\n",
       "      <th>round</th>\n",
       "      <th></th>\n",
       "      <th></th>\n",
       "    </tr>\n",
       "  </thead>\n",
       "  <tbody>\n",
       "    <tr>\n",
       "      <th>1</th>\n",
       "      <td>12.157647</td>\n",
       "      <td>0.244046</td>\n",
       "    </tr>\n",
       "    <tr>\n",
       "      <th>2</th>\n",
       "      <td>10.224181</td>\n",
       "      <td>0.227952</td>\n",
       "    </tr>\n",
       "    <tr>\n",
       "      <th>3</th>\n",
       "      <td>9.700658</td>\n",
       "      <td>0.253166</td>\n",
       "    </tr>\n",
       "    <tr>\n",
       "      <th>4</th>\n",
       "      <td>10.092664</td>\n",
       "      <td>0.271890</td>\n",
       "    </tr>\n",
       "    <tr>\n",
       "      <th>5</th>\n",
       "      <td>9.646154</td>\n",
       "      <td>0.319206</td>\n",
       "    </tr>\n",
       "    <tr>\n",
       "      <th>6</th>\n",
       "      <td>10.027174</td>\n",
       "      <td>0.335533</td>\n",
       "    </tr>\n",
       "    <tr>\n",
       "      <th>7</th>\n",
       "      <td>9.880240</td>\n",
       "      <td>0.340050</td>\n",
       "    </tr>\n",
       "    <tr>\n",
       "      <th>8</th>\n",
       "      <td>10.918919</td>\n",
       "      <td>0.426427</td>\n",
       "    </tr>\n",
       "    <tr>\n",
       "      <th>9</th>\n",
       "      <td>10.250000</td>\n",
       "      <td>0.506128</td>\n",
       "    </tr>\n",
       "    <tr>\n",
       "      <th>10</th>\n",
       "      <td>10.370370</td>\n",
       "      <td>0.716822</td>\n",
       "    </tr>\n",
       "    <tr>\n",
       "      <th>11</th>\n",
       "      <td>7.875000</td>\n",
       "      <td>1.000566</td>\n",
       "    </tr>\n",
       "    <tr>\n",
       "      <th>12</th>\n",
       "      <td>9.666667</td>\n",
       "      <td>1.909043</td>\n",
       "    </tr>\n",
       "  </tbody>\n",
       "</table>\n",
       "</div>"
      ],
      "text/plain": [
       "       Mean Career Length  Standard Error\n",
       "round                                    \n",
       "1               12.157647        0.244046\n",
       "2               10.224181        0.227952\n",
       "3                9.700658        0.253166\n",
       "4               10.092664        0.271890\n",
       "5                9.646154        0.319206\n",
       "6               10.027174        0.335533\n",
       "7                9.880240        0.340050\n",
       "8               10.918919        0.426427\n",
       "9               10.250000        0.506128\n",
       "10              10.370370        0.716822\n",
       "11               7.875000        1.000566\n",
       "12               9.666667        1.909043"
      ]
     },
     "metadata": {},
     "output_type": "display_data"
    }
   ],
   "source": [
    "retired=nhl_draft.dropna(subset=['to_year'])\n",
    "retired=retired[retired['to_year']<2022]\n",
    "retired['Mean Career Length']=retired['to_year']-retired['year']+1\n",
    "\n",
    "rgp=retired.groupby('round').mean()\n",
    "rgp=rgp[['Mean Career Length']]\n",
    "seRetire=retired.groupby('round').sem()\n",
    "rgp['Standard Error']=seRetire['Mean Career Length']\n",
    "display(rgp)\n",
    "dfi.export(rgp.style.format(\"{:.3f}\"), 'meanNHLCareer.png')\n"
   ]
  },
  {
   "cell_type": "code",
   "execution_count": 160,
   "metadata": {},
   "outputs": [],
   "source": [
    "salaries=pd.read_csv('..\\\\Data\\\\nhl_salaries.csv')\n",
    "salaries['Salary']=salaries['Salary'].replace('[\\$,]', '', regex=True).astype(float)\n",
    "\n",
    "pick=nhl_draft[['player', 'round', 'overall_pick']]\n",
    "pick=pick.rename(columns={'player':'name'})\n",
    "salaries=salaries.rename(columns={'Player':'name'})\n",
    "skaterSalaries=skaters.merge(salaries, on='name', how='left')\n",
    "skaterSalaries=skaterSalaries.merge(pick, on='name', how='left')\n",
    "skaterSalaries=skaterSalaries[['name', 'season', 'round', 'Salary', 'overall_pick']]\n",
    "goalieSalaries=goalies.merge(salaries, on='name', how='left')\n",
    "goalieSalaries=goalieSalaries.merge(pick, on='name', how='left')\n",
    "goalieSalaries=goalieSalaries[['name', 'season', 'round', 'Salary', 'overall_pick']]\n",
    "\n"
   ]
  },
  {
   "cell_type": "code",
   "execution_count": 161,
   "metadata": {},
   "outputs": [],
   "source": [
    "goalieByRound=goalieSalaries.groupby('round').mean()\n",
    "skaterByRound=skaterSalaries.groupby('round').mean()\n",
    "\n",
    "skaterByRound.index.names = ['Round']\n",
    "skaterByRound=skaterByRound.rename(columns={'Salary':'Mean Skater Salary'})\n",
    "skaterByRound.index=skaterByRound.index.astype(int)\n",
    "seSkater=skaterSalaries.groupby('round').sem()\n",
    "skaterByRound['Standard Error']=seSkater['Salary']\n",
    "dfi.export(skaterByRound[['Mean Skater Salary', 'Standard Error']].style.format(\"{:.0f}\"), 'meanSkaterSalary.png')\n"
   ]
  },
  {
   "cell_type": "code",
   "execution_count": 162,
   "metadata": {},
   "outputs": [],
   "source": [
    "goalieByRound.index.names = ['Round']\n",
    "goalieByRound=goalieByRound.rename(columns={'Salary':'Mean Goalie Salary'})\n",
    "goalieByRound.index=goalieByRound.index.astype(int)\n",
    "\n",
    "seGoalie=goalieSalaries.groupby('round').sem()\n",
    "goalieByRound['Standard Error']=seGoalie['Salary']\n",
    "dfi.export(goalieByRound[['Mean Goalie Salary', 'Standard Error']].style.format(\"{:.0f}\"), 'meanGoalieSalary.png')"
   ]
  }
 ],
 "metadata": {
  "kernelspec": {
   "display_name": "base",
   "language": "python",
   "name": "python3"
  },
  "language_info": {
   "codemirror_mode": {
    "name": "ipython",
    "version": 3
   },
   "file_extension": ".py",
   "mimetype": "text/x-python",
   "name": "python",
   "nbconvert_exporter": "python",
   "pygments_lexer": "ipython3",
   "version": "3.9.18"
  }
 },
 "nbformat": 4,
 "nbformat_minor": 2
}
